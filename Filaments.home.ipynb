{
 "cells": [
  {
   "cell_type": "code",
   "execution_count": 268,
   "metadata": {
    "collapsed": false,
    "deletable": true,
    "editable": true
   },
   "outputs": [],
   "source": [
    "#Import modules\n",
    "import numpy as np\n",
    "\n",
    "class Ring:\n",
    "    def __init__(self, size):\n",
    "        self.size = size\n",
    "        self.ring = []\n",
    "        self.sl = []\n",
    "\n",
    "    def __str__(self):\n",
    "        return str(self.ring)\n",
    "        \n",
    "    def addFilament(self, length):\n",
    "        filPos = np.array(np.zeros(self.size), dtype = bool)\n",
    "        start = np.random.randint(self.size)\n",
    "        end = start + length\n",
    "        if end > len(filPos):\n",
    "            filPos[start:len(filPos)] = True\n",
    "            filPos[0:end-len(filPos)] = True\n",
    "        else:\n",
    "            filPos[start:end] = True\n",
    "        self.ring.append(filPos)\n",
    "        return 1\n",
    "       \n",
    "    def sliceIt(self, pos, thickness):\n",
    "        ring = np.array(self.ring)\n",
    "        start = pos\n",
    "        end = start + thickness\n",
    "        if end > self.size:\n",
    "            endPart = ring[:, start:self.size]\n",
    "            startPart = ring[:, 0:end - self.size]\n",
    "            sl = np.hstack((endPart,startPart))\n",
    "        else:\n",
    "            sl = ring[:, start:end]\n",
    "        \n",
    "        self.sl = sl\n",
    "        \n",
    "    def reportStats(self, verbose=True):\n",
    "        sl = self.sl\n",
    "        fils, thickness = sl.shape\n",
    "        filament = np.array(np.ones(thickness), dtype=bool)\n",
    "        nofilament = np.array(np.zeros(thickness), dtype=bool)\n",
    "        completeFils = 0\n",
    "        ends = 0\n",
    "        for i in range(fils):\n",
    "            if np.array_equal(sl[i], filament):\n",
    "                completeFils += 1\n",
    "            elif not np.array_equal(sl[i], nofilament):\n",
    "                ends += 1\n",
    "        if verbose:\n",
    "            print('Numer of true filaments in the ring: {}'.format(len(self.ring)))\n",
    "            print('Numer of filaments throught slice: {}'.format(completeFils))\n",
    "            print('Numer of filaments ending in the slice: {}'.format(ends))\n",
    "        return completeFils, ends\n",
    "\n",
    "def simulate(ringSize, numFils, filLength):\n",
    "    R = Ring(ringSize)\n",
    "    for i in range(numFils):\n",
    "        R.addFilament(filLength)\n",
    "    return R\n",
    "\n",
    "def makeStats(R, thickness, trials, verbose = False):\n",
    "    endStat = []\n",
    "    fils = []\n",
    "    starts = []\n",
    "    for i in range(trials):\n",
    "        start = np.random.randint(R.size)\n",
    "        R.sliceIt(start,thickness)\n",
    "        fil, ends = R.reportStats(False)\n",
    "        endStat.append(ends)\n",
    "        fils.append(fil)\n",
    "        starts.append(start)\n",
    "        if verbose:\n",
    "            print('Sliced at: {} - {}'.format(start, R.sl))\n",
    "\n",
    "    endStat = np.array(endStat)\n",
    "    fils = np.array(fils)\n",
    "\n",
    "    print('Results:')\n",
    "    print('Number of ends (simul): {}'.format(endStat.mean()))\n",
    "    print('Number of observed filaments: {}'.format(fils.mean()))\n"
   ]
  },
  {
   "cell_type": "code",
   "execution_count": 283,
   "metadata": {
    "collapsed": false,
    "deletable": true,
    "editable": true
   },
   "outputs": [
    {
     "name": "stdout",
     "output_type": "stream",
     "text": [
      "Number of ends (theory) : 0.4\n",
      "Number of observed filaments (theory) : 0.3\n"
     ]
    }
   ],
   "source": [
    "D = 10\n",
    "Nf = 1\n",
    "L = 5\n",
    "S = 3\n",
    "Ne = 2 * Nf * (S - 1) / D   #4 * Nf * D / ( D - S )\n",
    "No = Nf * (L + 1 - S) / D\n",
    "print('Number of ends (theory) : {}'.format(Ne))\n",
    "print('Number of observed filaments (theory) : {}'.format(No))\n",
    "R = simulate(D, Nf, L)"
   ]
  },
  {
   "cell_type": "code",
   "execution_count": 284,
   "metadata": {
    "collapsed": false,
    "deletable": true,
    "editable": true
   },
   "outputs": [
    {
     "name": "stdout",
     "output_type": "stream",
     "text": [
      "Results:\n",
      "Number of ends (simul): 0.3944\n",
      "Number of observed filaments: 0.3068\n"
     ]
    }
   ],
   "source": [
    "makeStats(R, S, 10000)"
   ]
  },
  {
   "cell_type": "code",
   "execution_count": 272,
   "metadata": {
    "collapsed": false,
    "deletable": true,
    "editable": true
   },
   "outputs": [
    {
     "name": "stdout",
     "output_type": "stream",
     "text": [
      "[array([ True, False, False, False, False, False, False,  True,  True,  True], dtype=bool)]\n"
     ]
    }
   ],
   "source": [
    "print(R)"
   ]
  },
  {
   "cell_type": "markdown",
   "metadata": {
    "collapsed": false,
    "deletable": true,
    "editable": true
   },
   "source": [
    "## How does it work?\n",
    "\n",
    "\n",
    "Let's say there is a container of *D*=10 positions and a filament with length *L*=5 randomly placed in the container. In this example, the filament starts at the position 3 of the container:\n",
    "\n",
    "```\n",
    "Container                 = |---|---|---|---|---|---|---|---|---|---|\n",
    "Filament                  =         |---|---|---|---|---|\n",
    "```\n",
    "\n",
    "Let's now place the filament in the container and for that, we will mark the positions in the container with the filament with T and without the filament with F.\n",
    "\n",
    "```\n",
    "Container with filament:  = |-F-|-F-|-T-|-T-|-T-|-T-|-T-|-F-|-F-|-F-|\n",
    "```\n",
    "\n",
    "Now, let's suppose that we can only look at *S*=3 positions at once in this container, which we will call *slice*. The question is:\n",
    "\n",
    "**What is the probability of finding one of the ends of the filament?**\n",
    "\n",
    "Probabilities is, in general, the ration between the number of possibilities of what you want and the number of *all* possibilities.\n",
    "\n",
    "Because the container is \"connected\" from the end to the begining, the number of *all* possible slices, independently of the number of slice and it is the length of the the container *D*.\n",
    "\n",
    "Now, let's consider that we see an end when there is a switch from **T** to **F** or **F** to **T** within the 2 positions we are allowed to look at it. In this example the two ends of the filament are in the position 3 and position 7. Let's count how many possible slices os *S*=3 can capture at least one of them:\n",
    "\n",
    "|slice position|pos 1 | pos 2 | pos 3 | end |\n",
    "|:-:|:-: |:-:|:-:|\n",
    "| 1 | F |F| T| Yes|\n",
    "| 2 | F |T| T| Yes|\n",
    "| 3 | T |T| T| No |\n",
    "| 4 | T |T| T| No |\n",
    "| 5 | T |T| T| No |\n",
    "| 6 | T |T| F| Yes|\n",
    "| 7 | T |F| F| Yes|\n",
    "| 8 | F |F| F| No |\n",
    "| 9 | F |F| F| No |\n",
    "| 10| F |F| F| No |\n",
    "\n",
    "There are two possible slices, the slice at 1 and 2, related to the left terminus of the filament and the two others, slices 6 and 7, related to the right terminus. \n",
    "Thus, the probability of finding one end in a slice of 3 positions is: $4/10$ = 0.25. Notice that this is the contribution of 2 positions for each end.\n",
    "\n",
    "For the sake of clarity, let's increase the size of the slice to 4. *S*=4:\n",
    "\n",
    "|slice position|pos 1 | pos 2 | pos 3 | pos 4 | end |\n",
    "|:-:|:-: |:-:|:-:|:-:|\n",
    "| 1 | F |F| T| T| Yes|\n",
    "| 2 | F |T| T| T| Yes|\n",
    "| 3 | T |T| T| T| No |\n",
    "| 4 | T |T| T| T| No |\n",
    "| 5 | T |T| T| F| Yes |\n",
    "| 6 | T |T| F| F| Yes|\n",
    "| 7 | T |F| F| F| Yes|\n",
    "| 8 | F |F| F| F| No |\n",
    "| 9 | F |F| F| F| No |\n",
    "| 10| F |F| F| T| Yes |\n",
    "\n",
    "Now we have three possible slices for the left terminus:10, 1 and 2. Also we have three spossible slices for the right terminus: and 5,6 and 7. Which gives us 6 possibilities and thus, the probability of finding one end in a slice of 4 positions is: $6/10$ = 0.25. Notice that from the tota of 6 possibilities, 3 comes from each end.\n",
    "\n",
    "Based on these results in this discrete example, it is easily to see that the number of possible slices that contain one of the size of the slice minus 1 for each end. Just to make it even more clear... let's look at one of the ends:\n",
    "\n",
    "```\n",
    "Position:                     1   2   3   4   5   6   7   8   9   10   1\n",
    "Container with filament:  = |-F-|-F-|-T-|-T-|-T-|-T-|-T-|-F-|-F-|-F-||-F-|\n",
    "slice 7 - no end          =             |---|---|---|---|\n",
    "slice 5                   =                 |---|---|---|---|\n",
    "slice 6                   =                     |---|---|---|---|\n",
    "slice 7                   =                         |---|---|---|---|\n",
    "slice 8 - no end          =                             |---|---|---||---|\n",
    "```\n",
    "\n",
    "Finally, we can confidently say that the probability of finding one of the ends of the filament of length *L* randomnly placed in a container of size *D* with a slice of size *S* is:\n",
    "\n",
    "$$ P_{end} = 2 * (S - 1) / D $$\n",
    "\n",
    "where the **2** is because there are two ends in a filament.\n",
    "\n",
    "\n",
    "To generalize this to more than one filament, and assuming that their placement do not affect the placement of other filaments, one just need to multiply it by the number of filaments\n",
    "\n",
    "\n",
    "\n",
    "\n",
    "*This assumes that $S << L << D$\n",
    "\n",
    "\n",
    "\n",
    "$$N_{fil} * 2 = N_{ends}$$\n",
    "$$ <N_{ends}>_{per slice} = N_{ends} . S_{thick} / D_{ring} = 2 * N_{fil} S_{thick} / D_{ring}$$"
   ]
  },
  {
   "cell_type": "code",
   "execution_count": 143,
   "metadata": {
    "collapsed": false,
    "deletable": true,
    "editable": true
   },
   "outputs": [
    {
     "data": {
      "text/plain": [
       "10.0"
      ]
     },
     "execution_count": 143,
     "metadata": {},
     "output_type": "execute_result"
    }
   ],
   "source": [
    "2*500*20/2000"
   ]
  },
  {
   "cell_type": "code",
   "execution_count": 147,
   "metadata": {
    "collapsed": false,
    "deletable": true,
    "editable": true
   },
   "outputs": [],
   "source": [
    "b = np.array(1)"
   ]
  },
  {
   "cell_type": "code",
   "execution_count": 100,
   "metadata": {
    "collapsed": false,
    "deletable": true,
    "editable": true
   },
   "outputs": [
    {
     "data": {
      "text/plain": [
       "array([False, False, False], dtype=bool)"
      ]
     },
     "execution_count": 100,
     "metadata": {},
     "output_type": "execute_result"
    }
   ],
   "source": [
    "b."
   ]
  },
  {
   "cell_type": "code",
   "execution_count": null,
   "metadata": {
    "collapsed": true,
    "deletable": true,
    "editable": true
   },
   "outputs": [],
   "source": []
  },
  {
   "cell_type": "code",
   "execution_count": 103,
   "metadata": {
    "collapsed": false,
    "deletable": true,
    "editable": true
   },
   "outputs": [
    {
     "data": {
      "text/plain": [
       "False"
      ]
     },
     "execution_count": 103,
     "metadata": {},
     "output_type": "execute_result"
    }
   ],
   "source": [
    "np.array_equal(R.sl[1], nofilament)"
   ]
  },
  {
   "cell_type": "code",
   "execution_count": null,
   "metadata": {
    "collapsed": true,
    "deletable": true,
    "editable": true
   },
   "outputs": [],
   "source": []
  }
 ],
 "metadata": {
  "kernelspec": {
   "display_name": "Python 3",
   "language": "python",
   "name": "python3"
  },
  "language_info": {
   "codemirror_mode": {
    "name": "ipython",
    "version": 3
   },
   "file_extension": ".py",
   "mimetype": "text/x-python",
   "name": "python",
   "nbconvert_exporter": "python",
   "pygments_lexer": "ipython3",
   "version": "3.5.1"
  }
 },
 "nbformat": 4,
 "nbformat_minor": 1
}

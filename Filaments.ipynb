{
 "cells": [
  {
   "cell_type": "code",
   "execution_count": 129,
   "metadata": {
    "collapsed": false,
    "deletable": true,
    "editable": true
   },
   "outputs": [],
   "source": [
    "#Import modules\n",
    "import numpy as np\n",
    "\n",
    "class Ring:\n",
    "    def __init__(self, size):\n",
    "        self.size = size\n",
    "        self.ring = []\n",
    "        self.sl = []\n",
    "\n",
    "    def addFilament(self, length):\n",
    "        filPos = np.array(np.zeros(self.size), dtype = bool)\n",
    "        start = np.random.randint(self.size)\n",
    "        end = start + length\n",
    "        if end > len(filPos):\n",
    "            filPos[start:len(filPos)] = True\n",
    "            filPos[0:end-len(filPos)] = True\n",
    "        else:\n",
    "            filPos[start:end] = True\n",
    "        self.ring.append(filPos)\n",
    "        return 1\n",
    "       \n",
    "    def sliceIt(self, pos, thickness):\n",
    "        ring = np.array(self.ring)\n",
    "        start = pos\n",
    "        end = start + thickness\n",
    "        if end > self.size:\n",
    "            endPart = ring[:, start:self.size]\n",
    "            startPart = ring[:, 0:end - self.size]\n",
    "            sl = np.hstack((endPart,startPart))\n",
    "        else:\n",
    "            sl = ring[:, start:end]\n",
    "        \n",
    "        self.sl = sl\n",
    "        \n",
    "    def reportStats(self, verbose=True):\n",
    "        sl = self.sl\n",
    "        fils, thickness = sl.shape\n",
    "        filament = np.array(np.ones(thickness), dtype=bool)\n",
    "        nofilament = np.array(np.zeros(thickness), dtype=bool)\n",
    "        completeFils = 0\n",
    "        ends = 0\n",
    "        for i in range(fils):\n",
    "            if np.array_equal(sl[i], filament):\n",
    "                completeFils += 1\n",
    "            elif not np.array_equal(sl[i], nofilament):\n",
    "                ends += 1\n",
    "        if verbose:\n",
    "            print('Numer of true filaments in the ring: {}'.format(len(self.ring)))\n",
    "            print('Numer of filaments throught slice: {}'.format(completeFils))\n",
    "            print('Numer of filaments ending in the slice: {}'.format(ends))\n",
    "        return completeFils, ends\n",
    "\n",
    "def simulate(ringSize, numFils, filLength):\n",
    "    R = Ring(ringSize)\n",
    "    for i in range(numFils):\n",
    "        R.addFilament(filLength)\n",
    "    return R\n",
    "\n",
    "def makeStats(R, trials):\n",
    "    endStat = []\n",
    "    fils = []\n",
    "    for i in range(trials):\n",
    "        start = np.random.randint(R.size)\n",
    "        R.sliceIt(start,thickness)\n",
    "        fil, ends = R.reportStats(False)\n",
    "        endStat.append(ends)\n",
    "        fils.append(fil)\n",
    "\n",
    "    endStat = np.array(endStat)\n",
    "    fils = np.array(fils)\n",
    "\n",
    "    print('Results:')\n",
    "    print('Number of observed filaments: {}'.format(fils.mean()))\n",
    "    print('Number of ends (simul): {}'.format(endStat.mean()))\n",
    "\n",
    "    "
   ]
  },
  {
   "cell_type": "code",
   "execution_count": 130,
   "metadata": {
    "collapsed": false,
    "deletable": true,
    "editable": true
   },
   "outputs": [
    {
     "name": "stdout",
     "output_type": "stream",
     "text": [
      "Results:\n",
      "Number of observed filaments: 5.405\n",
      "Number of ends (simul): 19.775\n",
      "Number of observed filaments (theory) : 5.128205128205128\n",
      "Number of ends (theory) : 20.512820512820515\n"
     ]
    }
   ],
   "source": [
    "ringSize = 8000\n",
    "numFils = 400\n",
    "filLength = 300\n",
    "thickness = 200\n",
    "R = simulate(ringSize, numFils, filLength)\n",
    "theoryNumEnds = 2 * numFils * thickness / ( ringSize - thickness)\n",
    "makeStats(R, 200)\n",
    "theoryNumFil = (filLength - thickness)/(ringSize - thickness) * numFils\n",
    "print('Number of observed filaments (theory) : {}'.format(theoryNumFil))\n",
    "print('Number of ends (theory) : {}'.format(theoryNumEnds))"
   ]
  },
  {
   "cell_type": "code",
   "execution_count": 168,
   "metadata": {
    "collapsed": false,
    "deletable": true,
    "editable": true
   },
   "outputs": [
    {
     "name": "stdout",
     "output_type": "stream",
     "text": [
      "Results:\n",
      "Number of observed filaments: 0.9045\n",
      "Number of ends (simul): 0.1995\n",
      "Number of observed filaments (theory) : 0.8163265306122448\n",
      "Number of ends (theory) : 0.20408163265306123\n"
     ]
    }
   ],
   "source": [
    "ringSize = 100\n",
    "numFils = 10\n",
    "filLength = 10\n",
    "thickness = 2\n",
    "R = simulate(ringSize, numFils, filLength)\n",
    "theoryNumEnds = numFils * thickness / ( ringSize - thickness)\n",
    "makeStats(R, 10000)\n",
    "theoryNumFil = (filLength - thickness)/(ringSize - thickness) * numFils\n",
    "print('Number of observed filaments (theory) : {}'.format(theoryNumFil))\n",
    "print('Number of ends (theory) : {}'.format(theoryNumEnds))"
   ]
  },
  {
   "cell_type": "code",
   "execution_count": 210,
   "metadata": {
    "collapsed": false,
    "deletable": true,
    "editable": true
   },
   "outputs": [
    {
     "name": "stdout",
     "output_type": "stream",
     "text": [
      "Results:\n",
      "Number of observed filaments: 55.775\n",
      "Number of ends (simul): 7.964\n",
      "Number of observed filaments (theory) : 60.0\n",
      "Number of ends (theory) : 4.081632653061225\n"
     ]
    }
   ],
   "source": [
    "ringSize = 10000\n",
    "numFils = 200\n",
    "filLength = 3000\n",
    "thickness = 200\n",
    "R = simulate(ringSize, numFils, filLength)\n",
    "theoryNumEnds = numFils * thickness / ( ringSize - thickness)\n",
    "makeStats(R, 1000)\n",
    "theoryNumFil = ((filLength * numFils) / ringSize)\n",
    "print('Number of observed filaments (theory) : {}'.format(theoryNumFil))\n",
    "print('Number of ends (theory) : {}'.format(theoryNumEnds))"
   ]
  },
  {
   "cell_type": "markdown",
   "metadata": {
    "collapsed": false,
    "deletable": true,
    "editable": true
   },
   "source": [
    "$$N_{fil} * 2 = N_{ends}$$\n",
    "$$ <N_{ends}>_{per slice} = N_{ends} . S_{thick} / D_{ring} = 2 * N_{fil} S_{thick} / D_{ring}$$"
   ]
  },
  {
   "cell_type": "code",
   "execution_count": 143,
   "metadata": {
    "collapsed": false,
    "deletable": true,
    "editable": true
   },
   "outputs": [
    {
     "data": {
      "text/plain": [
       "10.0"
      ]
     },
     "execution_count": 143,
     "metadata": {},
     "output_type": "execute_result"
    }
   ],
   "source": [
    "2*500*20/2000"
   ]
  },
  {
   "cell_type": "code",
   "execution_count": 41,
   "metadata": {
    "collapsed": false,
    "deletable": true,
    "editable": true
   },
   "outputs": [
    {
     "data": {
      "text/plain": [
       "40.0"
      ]
     },
     "execution_count": 41,
     "metadata": {},
     "output_type": "execute_result"
    }
   ],
   "source": [
    "600*500/float(7500)"
   ]
  },
  {
   "cell_type": "code",
   "execution_count": 100,
   "metadata": {
    "collapsed": false,
    "deletable": true,
    "editable": true
   },
   "outputs": [
    {
     "data": {
      "text/plain": [
       "array([False, False, False], dtype=bool)"
      ]
     },
     "execution_count": 100,
     "metadata": {},
     "output_type": "execute_result"
    }
   ],
   "source": [
    "b."
   ]
  },
  {
   "cell_type": "code",
   "execution_count": null,
   "metadata": {
    "collapsed": true,
    "deletable": true,
    "editable": true
   },
   "outputs": [],
   "source": []
  },
  {
   "cell_type": "code",
   "execution_count": 103,
   "metadata": {
    "collapsed": false,
    "deletable": true,
    "editable": true
   },
   "outputs": [
    {
     "data": {
      "text/plain": [
       "False"
      ]
     },
     "execution_count": 103,
     "metadata": {},
     "output_type": "execute_result"
    }
   ],
   "source": [
    "np.array_equal(R.sl[1], nofilament)"
   ]
  },
  {
   "cell_type": "code",
   "execution_count": null,
   "metadata": {
    "collapsed": true,
    "deletable": true,
    "editable": true
   },
   "outputs": [],
   "source": []
  }
 ],
 "metadata": {
  "kernelspec": {
   "display_name": "Python 3",
   "language": "python",
   "name": "python3"
  },
  "language_info": {
   "codemirror_mode": {
    "name": "ipython",
    "version": 3
   },
   "file_extension": ".py",
   "mimetype": "text/x-python",
   "name": "python",
   "nbconvert_exporter": "python",
   "pygments_lexer": "ipython3",
   "version": "3.5.1"
  }
 },
 "nbformat": 4,
 "nbformat_minor": 1
}

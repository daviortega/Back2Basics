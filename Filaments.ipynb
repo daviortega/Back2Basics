{
 "cells": [
  {
   "cell_type": "code",
   "execution_count": 172,
   "metadata": {
    "collapsed": false,
    "deletable": true,
    "editable": true
   },
   "outputs": [],
   "source": [
    "#Import modules\n",
    "import numpy as np\n",
    "\n",
    "class Ring:\n",
    "    def __init__(self, size):\n",
    "        self.size = size\n",
    "        self.ring = []\n",
    "        self.sl = []\n",
    "\n",
    "    def addFilament(self, length):\n",
    "        filPos = np.array(np.zeros(self.size), dtype = bool)\n",
    "        start = np.random.randint(self.size)\n",
    "        end = start + length\n",
    "        if end > len(filPos):\n",
    "            filPos[start:len(filPos)] = True\n",
    "            filPos[0:end-len(filPos)] = True\n",
    "        else:\n",
    "            filPos[start:end] = True\n",
    "        self.ring.append(filPos)\n",
    "        return 1\n",
    "       \n",
    "    def sliceIt(self, pos, thickness):\n",
    "        ring = np.array(self.ring)\n",
    "        start = pos\n",
    "        end = start + thickness\n",
    "        if end > self.size:\n",
    "            endPart = ring[:, start:self.size]\n",
    "            startPart = ring[:, 0:end - self.size]\n",
    "            sl = np.hstack((endPart,startPart))\n",
    "        else:\n",
    "            sl = ring[:, start:end]\n",
    "        \n",
    "        self.sl = sl\n",
    "        \n",
    "    def reportStats(self, verbose=True):\n",
    "        sl = self.sl\n",
    "        fils, thickness = sl.shape\n",
    "        filament = np.array(np.ones(thickness), dtype=bool)\n",
    "        nofilament = np.array(np.zeros(thickness), dtype=bool)\n",
    "        completeFils = 0\n",
    "        ends = 0\n",
    "        for i in range(fils):\n",
    "            if np.array_equal(sl[i], filament):\n",
    "                completeFils += 1\n",
    "            elif not np.array_equal(sl[i], nofilament):\n",
    "                ends += 1\n",
    "        if verbose:\n",
    "            print('Numer of true filaments in the ring: {}'.format(len(self.ring)))\n",
    "            print('Numer of filaments throught slice: {}'.format(completeFils))\n",
    "            print('Numer of filaments ending in the slice: {}'.format(ends))\n",
    "        return completeFils, ends\n",
    "\n",
    "def simulate(ringSize, numFils, filLength):\n",
    "    R = Ring(ringSize)\n",
    "    for i in range(numFils):\n",
    "        R.addFilament(filLength)\n",
    "    return R\n",
    "\n",
    "def makeStats(R, trials):\n",
    "    endStat = []\n",
    "    fils = []\n",
    "    for i in range(10):\n",
    "        start = np.random.randint(R.size)\n",
    "        R.sliceIt(start,thickness)\n",
    "        fil, ends = R.reportStats(False)\n",
    "        endStat.append(ends)\n",
    "        fils.append(fil)\n",
    "\n",
    "    endStat = np.array(endStat)\n",
    "    fils = np.array(fils)\n",
    "\n",
    "    print('Results:')\n",
    "    print('Number of observed filaments: {}'.format(fils.mean()))\n",
    "    print('Number of ends (simul): {}'.format(endStat.mean()))\n",
    "    print('Number of ends (theory) : {}'.format(theory))"
   ]
  },
  {
   "cell_type": "code",
   "execution_count": 173,
   "metadata": {
    "collapsed": false
   },
   "outputs": [],
   "source": [
    "ringSize = 2000\n",
    "numFils = 100\n",
    "filLength = 1000\n",
    "thickness = 20\n",
    "R = simulate(ringSize, numFils, filLength)\n",
    "theory = 2 * numFils * thickness / ringSize"
   ]
  },
  {
   "cell_type": "code",
   "execution_count": 175,
   "metadata": {
    "collapsed": false
   },
   "outputs": [
    {
     "name": "stdout",
     "output_type": "stream",
     "text": [
      "Results:\n",
      "Number of observed filaments: 49.9\n",
      "Number of ends (simul): 1.7\n",
      "Number of ends (theory) : 2.0\n"
     ]
    }
   ],
   "source": [
    "makeStats(R, 10)"
   ]
  },
  {
   "cell_type": "code",
   "execution_count": 151,
   "metadata": {
    "collapsed": false
   },
   "outputs": [
    {
     "data": {
      "text/plain": [
       "9.5099999999999998"
      ]
     },
     "execution_count": 151,
     "metadata": {},
     "output_type": "execute_result"
    }
   ],
   "source": []
  },
  {
   "cell_type": "markdown",
   "metadata": {
    "collapsed": false,
    "deletable": true,
    "editable": true
   },
   "source": [
    "$$N_{fil} * 2 = N_{ends}$$\n",
    "$$ <N_{ends}>_{per slice} = N_{ends} . S_{thick} / D_{ring} = 2 * N_{fil} S_{thick} / D_{ring}$$"
   ]
  },
  {
   "cell_type": "code",
   "execution_count": 143,
   "metadata": {
    "collapsed": false,
    "deletable": true,
    "editable": true
   },
   "outputs": [
    {
     "data": {
      "text/plain": [
       "10.0"
      ]
     },
     "execution_count": 143,
     "metadata": {},
     "output_type": "execute_result"
    }
   ],
   "source": [
    "2*500*20/2000"
   ]
  },
  {
   "cell_type": "code",
   "execution_count": 147,
   "metadata": {
    "collapsed": false,
    "deletable": true,
    "editable": true
   },
   "outputs": [],
   "source": [
    "b = np.array(1)"
   ]
  },
  {
   "cell_type": "code",
   "execution_count": 100,
   "metadata": {
    "collapsed": false,
    "deletable": true,
    "editable": true
   },
   "outputs": [
    {
     "data": {
      "text/plain": [
       "array([False, False, False], dtype=bool)"
      ]
     },
     "execution_count": 100,
     "metadata": {},
     "output_type": "execute_result"
    }
   ],
   "source": [
    "b."
   ]
  },
  {
   "cell_type": "code",
   "execution_count": null,
   "metadata": {
    "collapsed": true
   },
   "outputs": [],
   "source": []
  },
  {
   "cell_type": "code",
   "execution_count": 103,
   "metadata": {
    "collapsed": false
   },
   "outputs": [
    {
     "data": {
      "text/plain": [
       "False"
      ]
     },
     "execution_count": 103,
     "metadata": {},
     "output_type": "execute_result"
    }
   ],
   "source": [
    "np.array_equal(R.sl[1], nofilament)"
   ]
  },
  {
   "cell_type": "code",
   "execution_count": null,
   "metadata": {
    "collapsed": true
   },
   "outputs": [],
   "source": []
  }
 ],
 "metadata": {
  "kernelspec": {
   "display_name": "Python 3",
   "language": "python",
   "name": "python3"
  },
  "language_info": {
   "codemirror_mode": {
    "name": "ipython",
    "version": 3
   },
   "file_extension": ".py",
   "mimetype": "text/x-python",
   "name": "python",
   "nbconvert_exporter": "python",
   "pygments_lexer": "ipython3",
   "version": "3.5.1"
  }
 },
 "nbformat": 4,
 "nbformat_minor": 1
}

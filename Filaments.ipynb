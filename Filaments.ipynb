{
 "cells": [
  {
   "cell_type": "code",
   "execution_count": 17,
   "metadata": {
    "collapsed": false,
    "deletable": true,
    "editable": true
   },
   "outputs": [],
   "source": [
    "#Import modules\n",
    "import numpy as np\n",
    "\n",
    "class Ring:\n",
    "    def __init__(self, size):\n",
    "        self.size = size\n",
    "        self.ring = []\n",
    "        self.sl = []\n",
    "\n",
    "    def __str__(self):\n",
    "        return str(self.ring)\n",
    "        \n",
    "    def addFilament(self, length):\n",
    "        filPos = np.array(np.zeros(self.size), dtype = bool)\n",
    "        start = np.random.randint(self.size)\n",
    "        end = start + length\n",
    "        if end > len(filPos):\n",
    "            filPos[start:len(filPos)] = True\n",
    "            filPos[0:end-len(filPos)] = True\n",
    "        else:\n",
    "            filPos[start:end] = True\n",
    "        self.ring.append(filPos)\n",
    "        return 1\n",
    "       \n",
    "    def sliceIt(self, pos, thickness):\n",
    "        ring = np.array(self.ring)\n",
    "        start = pos\n",
    "        end = start + thickness\n",
    "        if end > self.size:\n",
    "            endPart = ring[:, start:self.size]\n",
    "            startPart = ring[:, 0:end - self.size]\n",
    "            sl = np.hstack((endPart,startPart))\n",
    "        else:\n",
    "            sl = ring[:, start:end]\n",
    "        \n",
    "        self.sl = sl\n",
    "        \n",
    "    def reportStats(self, verbose=True):\n",
    "        sl = self.sl\n",
    "        fils, thickness = sl.shape\n",
    "        filament = np.array(np.ones(thickness), dtype=bool)\n",
    "        nofilament = np.array(np.zeros(thickness), dtype=bool)\n",
    "        completeFils = 0\n",
    "        ends = 0\n",
    "        for i in range(fils):\n",
    "            if np.array_equal(sl[i], filament):\n",
    "                completeFils += 1\n",
    "            elif not np.array_equal(sl[i], nofilament):\n",
    "                ends += 1\n",
    "        if verbose:\n",
    "            print('Numer of true filaments in the ring: {}'.format(len(self.ring)))\n",
    "            print('Numer of filaments throught slice: {}'.format(completeFils))\n",
    "            print('Numer of filaments ending in the slice: {}'.format(ends))\n",
    "        return completeFils, ends\n",
    "\n",
    "def simulate(ringSize, numFils, filLength):\n",
    "    R = Ring(ringSize)\n",
    "    for i in range(numFils):\n",
    "        R.addFilament(filLength)\n",
    "    return R\n",
    "\n",
    "def makeStats(R, thickness, trials, verbose = False):\n",
    "    endStat = []\n",
    "    fils = []\n",
    "    starts = []\n",
    "    for i in range(trials):\n",
    "        start = np.random.randint(R.size)\n",
    "        R.sliceIt(start,thickness)\n",
    "        fil, ends = R.reportStats(False)\n",
    "        endStat.append(ends)\n",
    "        fils.append(fil)\n",
    "        starts.append(start)\n",
    "        if verbose:\n",
    "            print('Sliced at: {} - {}'.format(start, R.sl))\n",
    "\n",
    "    endStat = np.array(endStat)\n",
    "    fils = np.array(fils)\n",
    "\n",
    "    print('Results:')\n",
    "    print('Number of ends (simul): {}'.format(endStat.mean()))\n",
    "    print('Number of observed filaments: {}'.format(fils.mean()))\n",
    "    \n",
    "    return fils.mean(), endStat.mean(), \n"
   ]
  },
  {
   "cell_type": "code",
   "execution_count": 14,
   "metadata": {
    "collapsed": false,
    "deletable": true,
    "editable": true
   },
   "outputs": [
    {
     "name": "stdout",
     "output_type": "stream",
     "text": [
      "Number of ends (theory) : 29.0\n",
      "Number of observed filaments (theory) : 10.5\n"
     ]
    }
   ],
   "source": [
    "D = 1000\n",
    "Nf = 500\n",
    "L = 50\n",
    "S = 30\n",
    "Ne = 2 * Nf * (S - 1) / D   #4 * Nf * D / ( D - S )\n",
    "No = Nf * (L - ( S - 1))/ D\n",
    "print('Number of ends (theory) : {}'.format(Ne))\n",
    "print('Number of observed filaments (theory) : {}'.format(No))\n",
    "R = simulate(D, Nf, L)"
   ]
  },
  {
   "cell_type": "code",
   "execution_count": 21,
   "metadata": {
    "collapsed": false,
    "deletable": true,
    "editable": true
   },
   "outputs": [
    {
     "name": "stdout",
     "output_type": "stream",
     "text": [
      "Results:\n",
      "Number of ends (simul): 29.2\n",
      "Number of observed filaments: 10.5\n"
     ]
    }
   ],
   "source": [
    "No_stat, Ne_stat = makeStats(R, S, 10)"
   ]
  },
  {
   "cell_type": "code",
   "execution_count": null,
   "metadata": {
    "collapsed": false,
    "deletable": true,
    "editable": true
   },
   "outputs": [],
   "source": [
    "print(R)"
   ]
  },
  {
   "cell_type": "markdown",
   "metadata": {
    "collapsed": false,
    "deletable": true,
    "editable": true
   },
   "source": [
    "## How does it work?\n",
    "\n",
    "Let's say there is a container of *D*=10 positions and a filament with length *L*=5 randomly placed in the container. In this example, the filament starts at the position 3 of the container:\n",
    "\n",
    "```\n",
    "Container                 = |---|---|---|---|---|---|---|---|---|---|\n",
    "Filament                  =         |---|---|---|---|---|\n",
    "```\n",
    "\n",
    "Let's now place the filament in the container and for that, we will mark the positions in the container with the filament with T and without the filament with F.\n",
    "\n",
    "```\n",
    "Container with filament:  = |-F-|-F-|-T-|-T-|-T-|-T-|-T-|-F-|-F-|-F-|\n",
    "```\n",
    "\n",
    "Now, let's suppose that we can only look at *S*=3 positions at once in this container, which we will call *slice*. The question is:\n",
    "\n",
    "**What is the probability of finding one of the ends of the filament?**\n",
    "\n",
    ">Before we continue, we will define the regime where $ S << L << D $. In other words, the size of the slice is much smaller than the size of the filament which is much smaller than the size of the container\n",
    "\n",
    "Probabilities is, in general, the ration between the number of possibilities of what you want and the number of *all* possibilities.\n",
    "\n",
    "Because the container is \"connected\" from the end to the begining, the number of *all* possible slices, independently of the number of slice and it is the length of the the container *D*.\n",
    "\n",
    "Now, let's consider that we see an end when there is a switch from **T** to **F** or **F** to **T** within the 2 positions we are allowed to look at it. In this example the two ends of the filament are in the position 3 and position 7. Let's count how many possible slices os *S*=3 can capture at least one of them:\n",
    "\n",
    "|slice position|pos 1 | pos 2 | pos 3 | end |\n",
    "|:-:|:-: |:-:|:-:|\n",
    "| 1 | F |F| T| Yes|\n",
    "| 2 | F |T| T| Yes|\n",
    "| 3 | T |T| T| No |\n",
    "| 4 | T |T| T| No |\n",
    "| 5 | T |T| T| No |\n",
    "| 6 | T |T| F| Yes|\n",
    "| 7 | T |F| F| Yes|\n",
    "| 8 | F |F| F| No |\n",
    "| 9 | F |F| F| No |\n",
    "| 10| F |F| F| No |\n",
    "\n",
    "There are two possible slices, the slice at 1 and 2, related to the left terminus of the filament and the two others, slices 6 and 7, related to the right terminus. \n",
    "Thus, the probability of finding one end in a slice of 3 positions is: $4/10$ = 0.25. Notice that this is the contribution of 2 positions for each end.\n",
    "\n",
    "For the sake of clarity, let's increase the size of the slice to 4. *S*=4:\n",
    "\n",
    "|slice position|pos 1 | pos 2 | pos 3 | pos 4 | end |\n",
    "|:-:|:-: |:-:|:-:|:-:|\n",
    "| 1 | F |F| T| T| Yes|\n",
    "| 2 | F |T| T| T| Yes|\n",
    "| 3 | T |T| T| T| No |\n",
    "| 4 | T |T| T| T| No |\n",
    "| 5 | T |T| T| F| Yes |\n",
    "| 6 | T |T| F| F| Yes|\n",
    "| 7 | T |F| F| F| Yes|\n",
    "| 8 | F |F| F| F| No |\n",
    "| 9 | F |F| F| F| No |\n",
    "| 10| F |F| F| T| Yes |\n",
    "\n",
    "Now we have three possible slices for the left terminus:10, 1 and 2. Also we have three spossible slices for the right terminus: and 5,6 and 7. Which gives us 6 possibilities and thus, the probability of finding one end in a slice of 4 positions is: $6/10$ = 0.25. Notice that from the tota of 6 possibilities, 3 comes from each end.\n",
    "\n",
    "Based on these results in this discrete example, it is easily to see that the number of possible slices that contain one of the size of the slice minus 1 for each end. Just to make it even more clear... let's look at one of the ends:\n",
    "\n",
    "```\n",
    "Position:                     1   2   3   4   5   6   7   8   9   10   1\n",
    "Container with filament:  = |-F-|-F-|-T-|-T-|-T-|-T-|-T-|-F-|-F-|-F-||-F-|\n",
    "slice 7 - no end          =             |---|---|---|---|\n",
    "slice 5                   =                 |---|---|---|---|\n",
    "slice 6                   =                     |---|---|---|---|\n",
    "slice 7                   =                         |---|---|---|---|\n",
    "slice 8 - no end          =                             |---|---|---||---|\n",
    "```\n",
    "\n",
    "Finally, we can confidently say that the probability of finding one of the ends of the filament of length *L* randomnly placed in a container of size *D* with a slice of size *S* is:\n",
    "\n",
    "$$ P_{e} = \\frac{2 (S - 1)}{D}$$\n",
    "\n",
    "where the **2** is because there are two ends in a filament.\n",
    "\n",
    "To generalize this to more than one filament, and assuming that their placement do not affect the placement of other filaments, one just need to multiply it by the number of filaments. So, given the number of filaments, the size of the container and the size of the slice, one can predict the expected value of ends in a single slice with:\n",
    "\n",
    "$$ \\langle N_{e} \\rangle = \\frac{2N_{f}(S - 1)}{D}$$\n",
    "\n",
    "For example, in a compartiment of the size 1000 and 500 filaments with a slice of 3 you can expect to see on average 2 ends of filements. However, if you increase the slice to 30 under the same conditions, you are suppose to expect to see 30 ends.\n",
    "\n",
    "***\n",
    "\n",
    "The other important question is:\n",
    "\n",
    "**What is the probability of finding a filament running continously through the slice?**\n",
    "\n",
    "Using the same example above let's examine the number of possible slices, first with *S*=3, that we find a continuous filament:\n",
    "\n",
    "|slice position|pos 1 | pos 2 | pos 3 | filament |\n",
    "|:-:|:-: |:-:|:-:|\n",
    "| 1 | F |F| T| No|\n",
    "| 2 | F |T| T| No|\n",
    "| 3 | T |T| T| Yes |\n",
    "| 4 | T |T| T| Yes |\n",
    "| 5 | T |T| T| Yes |\n",
    "| 6 | T |T| F| No|\n",
    "| 7 | T |F| F| No|\n",
    "| 8 | F |F| F| No |\n",
    "| 9 | F |F| F| No |\n",
    "| 10| F |F| F| No |\n",
    "\n",
    "In this case, we had three possibilities in 10.\n",
    "\n",
    "increasing the slice to *S*=4:\n",
    "\n",
    "|slice position|pos 1 | pos 2 | pos 3 | pos 4 | end |\n",
    "|:-:|:-: |:-:|:-:|:-:|\n",
    "| 1 | F |F| T| T| No|\n",
    "| 2 | F |T| T| T| No|\n",
    "| 3 | T |T| T| T| Yes |\n",
    "| 4 | T |T| T| T| Yes |\n",
    "| 5 | T |T| T| F| No |\n",
    "| 6 | T |T| F| F| No|\n",
    "| 7 | T |F| F| F| No|\n",
    "| 8 | F |F| F| F| No |\n",
    "| 9 | F |F| F| F| No |\n",
    "| 10| F |F| F| T| No |\n",
    "\n",
    "Now we have two possibilities in 10. \n",
    "\n",
    "In other words, the larger the slice, less chances to find a filament that runs through the entire slice. Let's try to visualize why. First with the *S*=3:\n",
    "\n",
    "\n",
    "```\n",
    "Position:                     1   2   3   4   5   6   7   8   9   10   1\n",
    "Container with filament:  = |-F-|-F-|-T-|-T-|-T-|-T-|-T-|-F-|-F-|-F-||-F-|\n",
    "slice 2 - no thourgh fil  =     |-X-|---|---|\n",
    "slice 3                   =         |---|---|---|\n",
    "slice 4                   =             |---|---|---|\n",
    "slice 5                   =                 |---|---|---|\n",
    "slice 6 - no through fil  =                     |---|---|-X-|\n",
    "```\n",
    "\n",
    "and with *S*=4\n",
    "\n",
    "```\n",
    "Position:                     1   2   3   4   5   6   7   8   9   10   1\n",
    "Container with filament:  = |-F-|-F-|-T-|-T-|-T-|-T-|-T-|-F-|-F-|-F-||-F-|\n",
    "slice 2 - no through fil  =     |-X-|---|---|---|\n",
    "slice 3                   =         |---|---|---|---|\n",
    "slice 4                   =             |---|---|---|---|\n",
    "slice 5   no through fil  =                 |---|---|---|-X-|\n",
    "slice 6 - no through fil  =                     |---|---|-X-|-X-|\n",
    "```\n",
    "\n",
    "From that, we infer that the number of possible slices with a filament completely running through depends on the length of the filament minus the size of the slice minus 1. Thus the probability of spoting a filament running through a slice can be writen as:\n",
    "\n",
    "$$ P_{fil} = \\frac{L - (S - 1)}{D}$$\n",
    "\n",
    "Similarly with the $N_{e}$, the expected number of **o**bserved filaments $\\langle N_{o} \\rangle $ can be calculated as: \n",
    "\n",
    "$$\\langle N_{o} \\rangle = N_{fil}\\frac{L - (S - 1)}{D}$$\n",
    "\n",
    "In other words, in the same scenario with a container of 1000, 500 filaments and a slice of 3, we should expect to find **24** filaments running continously through the slice. In contrast, increasing the slice size to 30, should decrease the number of filaments running through to **10.5**."
   ]
  },
  {
   "cell_type": "markdown",
   "metadata": {
    "collapsed": false,
    "deletable": true,
    "editable": true
   },
   "source": [
    "## Let's find out how to use these to make predictions.\n",
    "\n",
    "The major important question is: \n",
    "\n",
    "#### Can we estimatethe the length L of the filaments and the total number of filaments by observing the number of ends and the numbers of filaments running through a slice of a known size in a container of a known size?\n",
    "\n",
    "In other words:\n",
    "\n",
    "| knowns | unknowns |\n",
    "|:-:|:-:|\n",
    "| D, S, $ \\langle N_{o} \\rangle $, $ \\langle N_{e} \\rangle $ | $N_{f}$, L |\n",
    "\n",
    "Using the two equations derived earlier:\n",
    "\n",
    "$$ \\langle N_{e} \\rangle = 2 N_{f} (S - 1) / D $$\n",
    "\n",
    "\n",
    "$$\\langle N_{o} \\rangle = N_{f}\\frac{L - (S - 1)}{D}$$\n",
    "\n",
    "manipulating it we can recover:\n",
    "\n",
    "$$ L_{est} = (S-1)[1 + \\frac{\\langle N_{o} \\rangle}{\\langle N_{e} \\rangle}] $$\n",
    "\n",
    "$$ {N_{f}}_{est} = \\frac{D \\langle N_{e} \\rangle}{ 2 (S - 1)} $$"
   ]
  },
  {
   "cell_type": "code",
   "execution_count": 34,
   "metadata": {
    "collapsed": false,
    "deletable": true,
    "editable": true
   },
   "outputs": [
    {
     "name": "stdout",
     "output_type": "stream",
     "text": [
      "Estimated length (L = 50): 49.86\n",
      "Estimated number of filaments (Nf = 500): 503.45\n"
     ]
    }
   ],
   "source": [
    "L_est = (S - 1) * (1 + 2 * No_stat / Ne_stat)\n",
    "Nf_est = Ne_stat * D / (2 * (S - 1) )\n",
    "print('Estimated length (L = {}): {:.2f}'.format(L, L_est) )\n",
    "print('Estimated number of filaments (Nf = {}): {:0.2f}'.format(Nf, Nf_est))"
   ]
  },
  {
   "cell_type": "markdown",
   "metadata": {
    "collapsed": false,
    "deletable": true,
    "editable": true
   },
   "source": []
  },
  {
   "cell_type": "code",
   "execution_count": null,
   "metadata": {
    "collapsed": true,
    "deletable": true,
    "editable": true
   },
   "outputs": [],
   "source": []
  },
  {
   "cell_type": "code",
   "execution_count": 103,
   "metadata": {
    "collapsed": false,
    "deletable": true,
    "editable": true
   },
   "outputs": [
    {
     "data": {
      "text/plain": [
       "False"
      ]
     },
     "execution_count": 103,
     "metadata": {},
     "output_type": "execute_result"
    }
   ],
   "source": [
    "np.array_equal(R.sl[1], nofilament)"
   ]
  },
  {
   "cell_type": "code",
   "execution_count": null,
   "metadata": {
    "collapsed": true,
    "deletable": true,
    "editable": true
   },
   "outputs": [],
   "source": []
  }
 ],
 "metadata": {
  "kernelspec": {
   "display_name": "Python 3",
   "language": "python",
   "name": "python3"
  },
  "language_info": {
   "codemirror_mode": {
    "name": "ipython",
    "version": 3
   },
   "file_extension": ".py",
   "mimetype": "text/x-python",
   "name": "python",
   "nbconvert_exporter": "python",
   "pygments_lexer": "ipython3",
   "version": "3.5.1"
  }
 },
 "nbformat": 4,
 "nbformat_minor": 1
}

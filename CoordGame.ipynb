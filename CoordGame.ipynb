{
 "cells": [
  {
   "cell_type": "markdown",
   "metadata": {},
   "source": [
    "## Game theory - Coordination game\n",
    "\n",
    "which city: A or B\n"
   ]
  },
  {
   "cell_type": "code",
   "execution_count": 56,
   "metadata": {
    "collapsed": false
   },
   "outputs": [],
   "source": [
    "import numpy\n",
    "import json\n",
    "\n",
    "\n",
    "class Person:\n",
    "    def __init__(self, race, city=''):\n",
    "        self.race = race\n",
    "        self.city = city\n",
    "    \n",
    "    def __str__(self):\n",
    "        return self.race + ' - ' + self.city\n",
    "\n",
    "class Population:\n",
    "    def __init__(self):\n",
    "        self.people = []\n",
    "        self.races = set([])\n",
    "\n",
    "    def addTribe(self, race, number):\n",
    "        self.races.add(race)\n",
    "        for p in range(number):\n",
    "            self.people.append(Person(race))\n",
    "            \n",
    "    def __str__(self):\n",
    "        string = ''\n",
    "        for p in self.people:\n",
    "            string += str(p) + '\\n'\n",
    "        return string\n",
    "    \n",
    "                \n",
    "class City:\n",
    "    def __init__(self, name, size):\n",
    "        self.name = name\n",
    "        self.size = size\n",
    "        self.population = numpy.zeros(size, dtype = '|U128')\n",
    "        \n",
    "class Planet:\n",
    "    def __init__(self, cities, population, tradeOff = []):\n",
    "        self.cities = cities\n",
    "        self.population = population\n",
    "        if tradeOff == []:\n",
    "            tradeOff = numpy.diag([1,1])\n",
    "  \n",
    "    def populate(self, equal=False):\n",
    "        for person in self.population.people:\n",
    "            for choice in self.cities:\n",
    "                myPop = list(choice.population)\n",
    "                try:\n",
    "                    myPop.index('')\n",
    "                    person.city = choice.name\n",
    "                    choice.population[myPop.index('')] = person.race\n",
    "                    break\n",
    "                except ValueError:\n",
    "                    pass\n",
    "            if not equal:\n",
    "                numpy.random.shuffle(self.cities)\n",
    "            else:\n",
    "                self.cities = numpy.roll(self.cities, 1)\n",
    "            \n",
    "\n",
    "    def stats(self):\n",
    "        stat = {}\n",
    "        for city in self.cities:\n",
    "            stat[city.name] = {}\n",
    "            print(city.population)\n",
    "            for race in self.population.races:\n",
    "                stat[city.name][race] = numpy.sum(city.population == race) / city.size\n",
    "        return stat\n",
    "\n",
    "    def calculateOdds(self):\n",
    "        \n",
    "    \n",
    "    def move(self):\n",
    "        odds = calculateOdds\n",
    "        for person in self.population.people:\n",
    "    \n",
    "    "
   ]
  },
  {
   "cell_type": "code",
   "execution_count": 57,
   "metadata": {
    "collapsed": false
   },
   "outputs": [],
   "source": [
    "cities = [City('A', 10), City('B', 10)]\n",
    "martians = Population()\n",
    "martians.addTribe('blue', 10)\n",
    "martians.addTribe('red', 10)\n",
    "mars = Planet(cities, martians)\n",
    "mars.populate(equal=True)"
   ]
  },
  {
   "cell_type": "code",
   "execution_count": 58,
   "metadata": {
    "collapsed": false
   },
   "outputs": [
    {
     "name": "stdout",
     "output_type": "stream",
     "text": [
      "['blue' 'blue' 'blue' 'blue' 'blue' 'red' 'red' 'red' 'red' 'red']\n",
      "['blue' 'blue' 'blue' 'blue' 'blue' 'red' 'red' 'red' 'red' 'red']\n"
     ]
    },
    {
     "data": {
      "text/plain": [
       "{'A': {'blue': 0.5, 'red': 0.5}, 'B': {'blue': 0.5, 'red': 0.5}}"
      ]
     },
     "execution_count": 58,
     "metadata": {},
     "output_type": "execute_result"
    }
   ],
   "source": [
    "mars.stats()"
   ]
  },
  {
   "cell_type": "code",
   "execution_count": 61,
   "metadata": {
    "collapsed": false
   },
   "outputs": [
    {
     "name": "stdout",
     "output_type": "stream",
     "text": [
      "blue - A\n",
      "blue - B\n",
      "blue - A\n",
      "blue - B\n",
      "blue - A\n",
      "blue - B\n",
      "blue - A\n",
      "blue - B\n",
      "blue - A\n",
      "blue - B\n",
      "red - A\n",
      "red - B\n",
      "red - A\n",
      "red - B\n",
      "red - A\n",
      "red - B\n",
      "red - A\n",
      "red - B\n",
      "red - A\n",
      "red - B\n",
      "\n"
     ]
    }
   ],
   "source": [
    "print(mars.population)"
   ]
  },
  {
   "cell_type": "code",
   "execution_count": 274,
   "metadata": {
    "collapsed": false
   },
   "outputs": [],
   "source": []
  },
  {
   "cell_type": "code",
   "execution_count": 275,
   "metadata": {
    "collapsed": false
   },
   "outputs": [
    {
     "name": "stdout",
     "output_type": "stream",
     "text": [
      "blue - A\n",
      "blue - B\n",
      "blue - B\n",
      "blue - A\n",
      "blue - B\n",
      "blue - B\n",
      "blue - B\n",
      "blue - A\n",
      "blue - A\n",
      "blue - A\n",
      "red - A\n",
      "red - A\n",
      "red - A\n",
      "red - B\n",
      "red - B\n",
      "red - B\n",
      "red - B\n",
      "red - B\n",
      "red - A\n",
      "red - A\n",
      "\n"
     ]
    }
   ],
   "source": []
  },
  {
   "cell_type": "code",
   "execution_count": 217,
   "metadata": {
    "collapsed": false
   },
   "outputs": [],
   "source": [
    " a = list(numpy.array(['a', 'b', 'c']))"
   ]
  },
  {
   "cell_type": "code",
   "execution_count": 236,
   "metadata": {
    "collapsed": false
   },
   "outputs": [
    {
     "ename": "ValueError",
     "evalue": "'r' is not in list",
     "output_type": "error",
     "traceback": [
      "\u001b[0;31m---------------------------------------------------------------------------\u001b[0m",
      "\u001b[0;31mValueError\u001b[0m                                Traceback (most recent call last)",
      "\u001b[0;32m<ipython-input-236-489e88ffc820>\u001b[0m in \u001b[0;36m<module>\u001b[0;34m()\u001b[0m\n\u001b[0;32m----> 1\u001b[0;31m \u001b[0ma\u001b[0m\u001b[0;34m.\u001b[0m\u001b[0mindex\u001b[0m\u001b[0;34m(\u001b[0m\u001b[0;34m'r'\u001b[0m\u001b[0;34m)\u001b[0m\u001b[0;34m\u001b[0m\u001b[0m\n\u001b[0m",
      "\u001b[0;31mValueError\u001b[0m: 'r' is not in list"
     ]
    }
   ],
   "source": [
    "a.index('r')"
   ]
  },
  {
   "cell_type": "code",
   "execution_count": null,
   "metadata": {
    "collapsed": true
   },
   "outputs": [],
   "source": []
  }
 ],
 "metadata": {
  "kernelspec": {
   "display_name": "Python 3",
   "language": "python",
   "name": "python3"
  },
  "language_info": {
   "codemirror_mode": {
    "name": "ipython",
    "version": 3
   },
   "file_extension": ".py",
   "mimetype": "text/x-python",
   "name": "python",
   "nbconvert_exporter": "python",
   "pygments_lexer": "ipython3",
   "version": "3.5.1"
  }
 },
 "nbformat": 4,
 "nbformat_minor": 1
}
